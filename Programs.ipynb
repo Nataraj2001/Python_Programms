{
 "cells": [
  {
   "cell_type": "markdown",
   "metadata": {},
   "source": [
    "##### 1.Python Program to Add Two Numbers\n",
    "\n"
   ]
  },
  {
   "cell_type": "code",
   "execution_count": null,
   "metadata": {},
   "outputs": [
    {
     "name": "stdout",
     "output_type": "stream",
     "text": [
      "The sum of 45 and 50 is 95\n"
     ]
    }
   ],
   "source": [
    "\n",
    "num1 = int(input(\"Enter First Number:\"))\n",
    "\n",
    "num2 = int(input(\"Enter Second Number:\"))\n",
    "\n",
    "sum = num1 + num2\n",
    "\n",
    "print('The sum of {0} and {1} is {2}'.format(num1, num2, sum))"
   ]
  },
  {
   "cell_type": "markdown",
   "metadata": {},
   "source": [
    "##### 2.Reverse a String"
   ]
  },
  {
   "cell_type": "code",
   "execution_count": 1,
   "metadata": {},
   "outputs": [
    {
     "name": "stdout",
     "output_type": "stream",
     "text": [
      "dlroW olleH\n"
     ]
    }
   ],
   "source": [
    "txt = \"Hello World\"\n",
    "print(txt[::-1])\n"
   ]
  },
  {
   "cell_type": "markdown",
   "metadata": {},
   "source": [
    "##### 3.Factorial of the number"
   ]
  },
  {
   "cell_type": "code",
   "execution_count": null,
   "metadata": {},
   "outputs": [
    {
     "name": "stdout",
     "output_type": "stream",
     "text": [
      "The factorial of 4 is 24\n"
     ]
    }
   ],
   "source": [
    "def factorial(x):\n",
    "    if x == 0:\n",
    "        return 1\n",
    "    elif x==1:\n",
    "        return 1\n",
    "    else:\n",
    "        return (x * factorial(x-1))\n",
    "num = 4\n",
    "result = factorial(num)\n",
    "print(\"The factorial of\", num, \"is\", result)"
   ]
  },
  {
   "cell_type": "markdown",
   "metadata": {},
   "source": [
    "4.Check if a String is Palindrome(racecar=racecar)"
   ]
  },
  {
   "cell_type": "code",
   "execution_count": null,
   "metadata": {},
   "outputs": [
    {
     "name": "stdout",
     "output_type": "stream",
     "text": [
      "Given word --> racecar is Palindrome\n"
     ]
    }
   ],
   "source": [
    "def isPalindrome(txt):\n",
    "    return txt == txt[::-1]\n",
    "\n",
    "txt = \"racecar\"\n",
    "ans = isPalindrome(txt)\n",
    " \n",
    "if ans:\n",
    "    print(\"Given word --> {0} is Palindrome\".format(txt))\n",
    "else:\n",
    "    print(\"Given word --> {0} is not a Palindrome\".format(txt))"
   ]
  },
  {
   "cell_type": "markdown",
   "metadata": {},
   "source": [
    "5.Check the square of given number(Keyword:Exponential is written in python as  **0.5)"
   ]
  },
  {
   "cell_type": "code",
   "execution_count": null,
   "metadata": {},
   "outputs": [
    {
     "name": "stdout",
     "output_type": "stream",
     "text": [
      "The squre root of 16.000 is 4.000\n"
     ]
    }
   ],
   "source": [
    "num=int(input(\"Enter the number\"))\n",
    "\n",
    "num_sqrt=num ** 0.5\n",
    "\n",
    "print('The squre root of %0.3f is %0.3f' %(num, num_sqrt))"
   ]
  },
  {
   "cell_type": "markdown",
   "metadata": {},
   "source": [
    "7.Python programs to swap two variables(logic= x,y=y,x and temp=x, x=y , y=temp)"
   ]
  },
  {
   "cell_type": "code",
   "execution_count": null,
   "metadata": {},
   "outputs": [
    {
     "name": "stdout",
     "output_type": "stream",
     "text": [
      "The value of x after swapping:15\n",
      "The vlaue of y after swapping: 16\n"
     ]
    }
   ],
   "source": [
    "x=16\n",
    "y=15\n",
    "\n",
    "temp=x\n",
    "x=y\n",
    "y=temp\n",
    "\n",
    "print(\"The value of x after swapping:{}\".format(x))\n",
    "print(\"The vlaue of y after swapping: {}\".format(y))"
   ]
  },
  {
   "cell_type": "markdown",
   "metadata": {},
   "source": [
    "8.Python program to generate random number( using module \"random\", and function called randint= random.randint)"
   ]
  },
  {
   "cell_type": "code",
   "execution_count": null,
   "metadata": {},
   "outputs": [
    {
     "name": "stdout",
     "output_type": "stream",
     "text": [
      "2\n"
     ]
    }
   ],
   "source": [
    "import random\n",
    "\n",
    "print(random.randint(0,9))"
   ]
  },
  {
   "cell_type": "markdown",
   "metadata": {},
   "source": [
    "9.Check the number is Even or Odd [(num%2)==0]"
   ]
  },
  {
   "cell_type": "code",
   "execution_count": null,
   "metadata": {},
   "outputs": [
    {
     "name": "stdout",
     "output_type": "stream",
     "text": [
      "12 is Even number\n",
      "12\n"
     ]
    }
   ],
   "source": [
    "num=12\n",
    "\n",
    "if (num % 2)==0:\n",
    "    print(\"{0} is Even number\".format(num))\n",
    "else:\n",
    "    print(\"{0} is Odd number\".format(num))\n",
    "\n",
    "print(num)"
   ]
  },
  {
   "cell_type": "markdown",
   "metadata": {},
   "source": [
    "10.Check if the Number is Positive , Negetive and Zero"
   ]
  },
  {
   "cell_type": "code",
   "execution_count": null,
   "metadata": {},
   "outputs": [
    {
     "name": "stdout",
     "output_type": "stream",
     "text": [
      "-250 is Negative Number\n"
     ]
    }
   ],
   "source": [
    "num=-250\n",
    "\n",
    "if num > 0 :\n",
    "    print(\"{0} is Positive Number\".format(num))\n",
    "elif num == 0:\n",
    "    print(\"{0} is Zero\".format(num))\n",
    "else:\n",
    "    print(\"{0} is Negative Number\".format(num))"
   ]
  },
  {
   "cell_type": "markdown",
   "metadata": {},
   "source": [
    "11.Find the largest amoung three numbers"
   ]
  },
  {
   "cell_type": "code",
   "execution_count": null,
   "metadata": {},
   "outputs": [
    {
     "name": "stdout",
     "output_type": "stream",
     "text": [
      "Largest number 133\n"
     ]
    }
   ],
   "source": [
    "num1=2\n",
    "num2=1\n",
    "num3=133\n",
    "\n",
    "if (num1>=num2) and (num1>=num3):\n",
    "    print(\"Largest number\", num1)\n",
    "elif(num2>=num1) and (num2>=num3):\n",
    "    print(\"Largest number\", num2)\n",
    "else:\n",
    "    print(\"Largest number\", num3)"
   ]
  },
  {
   "cell_type": "markdown",
   "metadata": {},
   "source": [
    "12.Program to check the prime number"
   ]
  },
  {
   "cell_type": "code",
   "execution_count": null,
   "metadata": {},
   "outputs": [
    {
     "name": "stdout",
     "output_type": "stream",
     "text": [
      "407 it is not a prime number\n",
      "11 times 37 is 407\n"
     ]
    }
   ],
   "source": [
    "num=int(input(\"Enter the Prime Number\"))\n",
    "\n",
    "if num==1:\n",
    "    print(num,\"is not a prime number\")\n",
    "elif num > 1:\n",
    "  for i in range(2, num):\n",
    "    if(num % i)==0:\n",
    "     print(num, \"it is not a prime number\")\n",
    "     print(i, \"times\", num // i, \"is\", num)\n",
    "     break\n",
    "  else:\n",
    "     print(num, \"is a prime number\")\n",
    "else:\n",
    "  print(num, \"is not a prime number\")\n",
    "\n",
    "\n"
   ]
  },
  {
   "cell_type": "markdown",
   "metadata": {},
   "source": [
    "13.Print all the prime numbers within an interval"
   ]
  },
  {
   "cell_type": "code",
   "execution_count": null,
   "metadata": {},
   "outputs": [
    {
     "name": "stdout",
     "output_type": "stream",
     "text": [
      "Prime numbers between  1 and 100 are\n",
      "2\n",
      "3\n",
      "5\n",
      "7\n",
      "11\n",
      "13\n",
      "17\n",
      "19\n",
      "23\n",
      "29\n",
      "31\n",
      "37\n",
      "41\n",
      "43\n",
      "47\n",
      "53\n",
      "59\n",
      "61\n",
      "67\n",
      "71\n",
      "73\n",
      "79\n",
      "83\n",
      "89\n",
      "97\n",
      "Total number of Prime numbers between 1 and 100 is 25\n"
     ]
    }
   ],
   "source": [
    "lower=1\n",
    "upper=100\n",
    "count=0\n",
    "\n",
    "print(\"Prime numbers between \", lower, \"and\", upper,\"are\")\n",
    "\n",
    "for num in range(lower, upper +1 ):\n",
    "    if num > 1:\n",
    "        for i in range(2, num):\n",
    "            if (num % i)==0:\n",
    "                break\n",
    "        else:\n",
    "            print(num)\n",
    "            count+= 1\n",
    "\n",
    "print(\"Total number of Prime numbers between 1 and 100 is\",str(count))\n",
    "\n",
    "        \n",
    "\n",
    "\n",
    "\n",
    "\n",
    "\n"
   ]
  },
  {
   "cell_type": "markdown",
   "metadata": {},
   "source": [
    "14. Find the Factorial of the Given Number"
   ]
  },
  {
   "cell_type": "code",
   "execution_count": null,
   "metadata": {},
   "outputs": [
    {
     "name": "stdout",
     "output_type": "stream",
     "text": [
      "The factorial of  5 is 120\n"
     ]
    }
   ],
   "source": [
    "num = 5\n",
    "\n",
    "factorial = 1\n",
    "\n",
    "if num < 0:\n",
    "    print(\"Factorial does not exist for negative number\")\n",
    "\n",
    "elif num == 0:\n",
    "    print(\"The factorial of 0 is 1\")\n",
    "\n",
    "else:\n",
    "\n",
    "    for i in range(1, num + 1):\n",
    "        factorial=factorial * i\n",
    "    print(\"The factorial of \", num, \"is\", factorial)"
   ]
  },
  {
   "cell_type": "markdown",
   "metadata": {},
   "source": [
    "15.Checking if a year is leap year or not"
   ]
  },
  {
   "cell_type": "code",
   "execution_count": null,
   "metadata": {},
   "outputs": [
    {
     "name": "stdout",
     "output_type": "stream",
     "text": [
      "1600 is leap year\n"
     ]
    }
   ],
   "source": [
    "year= 1600\n",
    "\n",
    "if (year % 400 ==0) and (year % 100 ==0):\n",
    "    print(\"{0} is leap year\".format(year))\n",
    "elif (year % 4 ==0) and (year % 100 !=0):\n",
    "    print(\"{0} is leap year\".format(year))\n",
    "\n",
    "else:\n",
    "    print(\"{0} is not a leap year\".format(year))\n"
   ]
  },
  {
   "cell_type": "markdown",
   "metadata": {},
   "source": [
    "16.Program to Display the Multiple table"
   ]
  },
  {
   "cell_type": "code",
   "execution_count": null,
   "metadata": {},
   "outputs": [
    {
     "name": "stdout",
     "output_type": "stream",
     "text": [
      "4000 x 1 = 4000\n",
      "4000 x 2 = 8000\n",
      "4000 x 3 = 12000\n",
      "4000 x 4 = 16000\n",
      "4000 x 5 = 20000\n",
      "4000 x 6 = 24000\n",
      "4000 x 7 = 28000\n",
      "4000 x 8 = 32000\n",
      "4000 x 9 = 36000\n",
      "4000 x 10 = 40000\n"
     ]
    }
   ],
   "source": [
    "num = 4000\n",
    "\n",
    "for i in range(1, 11):\n",
    "    print(num,'x' , i,'=', num *i)"
   ]
  },
  {
   "cell_type": "markdown",
   "metadata": {},
   "source": [
    "17.Program to Print Fibonacci Sequence"
   ]
  },
  {
   "cell_type": "code",
   "execution_count": null,
   "metadata": {},
   "outputs": [
    {
     "name": "stdout",
     "output_type": "stream",
     "text": [
      "Fibonnaci sequence\n",
      "0\n",
      "1\n",
      "1\n",
      "2\n",
      "3\n",
      "5\n"
     ]
    }
   ],
   "source": [
    "nterms=int(input(\"How many times?\"))\n",
    "\n",
    "n1, n2 = 0, 1\n",
    "count=0\n",
    "\n",
    "if nterms <= 0:\n",
    "    print(\"Please enter a positive integer\")\n",
    "elif nterms == 1:\n",
    "    print(\"Fibonacci sequence upto\",nterms, \":\")\n",
    "    print(n1)\n",
    "else:\n",
    "    print(\"Fibonnaci sequence\")\n",
    "    while count < nterms:\n",
    "        print(n1)\n",
    "        nth=n1 + n2\n",
    "        n1=n2\n",
    "        n2=nth\n",
    "        count += 1\n"
   ]
  },
  {
   "cell_type": "markdown",
   "metadata": {},
   "source": [
    "18.Program to Check Armstrong Number"
   ]
  },
  {
   "cell_type": "code",
   "execution_count": null,
   "metadata": {},
   "outputs": [
    {
     "name": "stdout",
     "output_type": "stream",
     "text": [
      "125 is not an Armstrong number\n"
     ]
    }
   ],
   "source": [
    "num = 125\n",
    "\n",
    "sum = 0\n",
    "\n",
    "temp= num\n",
    "while temp > 0:\n",
    "    digit=temp % 10 \n",
    "    sum += digit ** 3\n",
    "    temp //= 10 \n",
    "\n",
    "if num == sum :\n",
    "    print(num, \"is an armstrong number\")\n",
    "\n",
    "else:\n",
    "    print(num, \"is not an Armstrong number\")"
   ]
  },
  {
   "cell_type": "markdown",
   "metadata": {},
   "source": [
    "19.Program to Find Aramstrong number in interval"
   ]
  },
  {
   "cell_type": "code",
   "execution_count": null,
   "metadata": {},
   "outputs": [
    {
     "name": "stdout",
     "output_type": "stream",
     "text": [
      "153\n",
      "370\n",
      "371\n",
      "407\n",
      "1634\n"
     ]
    }
   ],
   "source": [
    "lower=100\n",
    "upper=2000\n",
    "\n",
    "for num in range(lower, upper + 1):\n",
    "\n",
    "    order=len(str(num))\n",
    "\n",
    "   \n",
    "\n",
    "\n",
    "    sum = 0\n",
    "\n",
    "    temp = num\n",
    "\n",
    "    while temp > 0:\n",
    "        digit=temp % 10\n",
    "        sum += digit ** order\n",
    "        temp //= 10\n",
    "\n",
    "    if num==sum:\n",
    "        print(num)"
   ]
  },
  {
   "cell_type": "markdown",
   "metadata": {},
   "source": [
    "20.Find the Sum of Natural numbers"
   ]
  },
  {
   "cell_type": "code",
   "execution_count": null,
   "metadata": {},
   "outputs": [
    {
     "name": "stdout",
     "output_type": "stream",
     "text": [
      "The sum is  136\n"
     ]
    }
   ],
   "source": [
    "num = 16\n",
    "\n",
    "if num < 0:\n",
    "    print(\"Entr a Positive number\")\n",
    "\n",
    "else:\n",
    "    sum = 0\n",
    "\n",
    "    while (num > 0):\n",
    "        sum+=num \n",
    "        num-=1\n",
    "    print(\"The sum is \", sum)\n"
   ]
  },
  {
   "cell_type": "markdown",
   "metadata": {},
   "source": [
    "21.Program to Display Powers of 2 Using Anonymus Function"
   ]
  },
  {
   "cell_type": "code",
   "execution_count": null,
   "metadata": {},
   "outputs": [
    {
     "name": "stdout",
     "output_type": "stream",
     "text": [
      "The total terms are: 5\n",
      "2 raised to power 0 is 1\n",
      "2 raised to power 1 is 2\n",
      "2 raised to power 2 is 4\n",
      "2 raised to power 3 is 8\n",
      "2 raised to power 4 is 16\n"
     ]
    }
   ],
   "source": [
    "terms=5\n",
    "\n",
    "result=list(map(lambda x:2 ** x, range(terms)))\n",
    "\n",
    "print(\"The total terms are:\", terms)\n",
    "for i in range(terms):\n",
    "    print(\"2 raised to power\", i, \"is\", result[i])\n"
   ]
  },
  {
   "cell_type": "markdown",
   "metadata": {},
   "source": [
    "22.Program to find Divisible by Another number"
   ]
  },
  {
   "cell_type": "code",
   "execution_count": null,
   "metadata": {},
   "outputs": [
    {
     "name": "stdout",
     "output_type": "stream",
     "text": [
      "Numbers divisible by 13 are [65, 39, 221]\n"
     ]
    }
   ],
   "source": [
    "my_list=[12, 65, 54, 39, 102, 339, 221]\n",
    "\n",
    "result=list(filter(lambda x:(x % 13==0), my_list))\n",
    "\n",
    "print(\"Numbers divisible by 13 are\", result)"
   ]
  },
  {
   "cell_type": "markdown",
   "metadata": {},
   "source": [
    "23.Covert Decimal to Binary, octal and Hexadecimal"
   ]
  },
  {
   "cell_type": "code",
   "execution_count": null,
   "metadata": {},
   "outputs": [
    {
     "name": "stdout",
     "output_type": "stream",
     "text": [
      "The decimal value of: 2 is\n",
      "0b10 in binary\n",
      "0o2 in octal\n",
      "0x2 in hexadecimal\n"
     ]
    }
   ],
   "source": [
    "dec=2\n",
    "\n",
    "print(\"The decimal value of:\", dec ,\"is\")\n",
    "\n",
    "print(bin(dec), \"in binary\")\n",
    "print(oct(dec), \"in octal\")\n",
    "print(hex(dec),\"in hexadecimal\")\n"
   ]
  },
  {
   "cell_type": "markdown",
   "metadata": {},
   "source": [
    "24. Program to Find ASCII value of Character"
   ]
  },
  {
   "cell_type": "code",
   "execution_count": null,
   "metadata": {},
   "outputs": [
    {
     "name": "stdout",
     "output_type": "stream",
     "text": [
      "The ASCII value of 'a ' is 97\n"
     ]
    }
   ],
   "source": [
    "c='a'\n",
    "print(\"The ASCII value of '\" + c + \" ' is\", ord(c))"
   ]
  },
  {
   "cell_type": "markdown",
   "metadata": {},
   "source": [
    "25.Program to Find HCF or GCD"
   ]
  },
  {
   "cell_type": "code",
   "execution_count": null,
   "metadata": {},
   "outputs": [
    {
     "name": "stdout",
     "output_type": "stream",
     "text": [
      "The H. C. F is 20\n"
     ]
    }
   ],
   "source": [
    "def compute_hcf(x, y):\n",
    "\n",
    "    if x > y:\n",
    "        smaller =y \n",
    "    else:\n",
    "        smaller =x\n",
    "    for i in range(1, smaller +1):\n",
    "        if(x % i==0) and (y % i==0):\n",
    "            hcf=i\n",
    "    return hcf\n",
    "\n",
    "num1=20\n",
    "num2=60\n",
    "\n",
    "print(\"The H. C. F is\", compute_hcf(num1, num2))"
   ]
  },
  {
   "cell_type": "markdown",
   "metadata": {},
   "source": [
    "26. Program to Find LCM"
   ]
  },
  {
   "cell_type": "code",
   "execution_count": null,
   "metadata": {},
   "outputs": [
    {
     "name": "stdout",
     "output_type": "stream",
     "text": [
      " The L.C.M  120\n"
     ]
    }
   ],
   "source": [
    "def compute_lcm(x, y):\n",
    "\n",
    "    if x > y:\n",
    "        greater=x\n",
    "    else:\n",
    "        greater =y\n",
    "    \n",
    "    while(True):\n",
    "        if((greater % x==0) and (greater % y==0)):\n",
    "            lcm=greater\n",
    "            break\n",
    "        greater += 1\n",
    "\n",
    "    return lcm\n",
    "\n",
    "num1=120\n",
    "num2=20\n",
    "\n",
    "print(\" The L.C.M \", compute_lcm(num1, num2))"
   ]
  },
  {
   "cell_type": "markdown",
   "metadata": {},
   "source": [
    "27.Program to Find the factors of  Numbers"
   ]
  },
  {
   "cell_type": "code",
   "execution_count": null,
   "metadata": {},
   "outputs": [
    {
     "name": "stdout",
     "output_type": "stream",
     "text": [
      "The factors of 360 are:\n",
      "1\n",
      "2\n",
      "3\n",
      "4\n",
      "5\n",
      "6\n",
      "8\n",
      "9\n",
      "10\n",
      "12\n",
      "15\n",
      "18\n",
      "20\n",
      "24\n",
      "30\n",
      "36\n",
      "40\n",
      "45\n",
      "60\n",
      "72\n",
      "90\n",
      "120\n",
      "180\n",
      "360\n"
     ]
    }
   ],
   "source": [
    "def print_factors(x):\n",
    "    print(\"The factors of\", x, \"are:\")\n",
    "    for i in range(1, x+1):\n",
    "        if x % i ==0:\n",
    "            print(i)\n",
    "\n",
    "num=360\n",
    "print_factors(num)"
   ]
  },
  {
   "cell_type": "markdown",
   "metadata": {},
   "source": [
    "28. Program to Make Simple calculator "
   ]
  },
  {
   "cell_type": "code",
   "execution_count": 1,
   "metadata": {},
   "outputs": [
    {
     "name": "stdout",
     "output_type": "stream",
     "text": [
      "Select operation:\n",
      "1. Add\n",
      "2. Subtract\n",
      "3.Multiply\n",
      "4. Divide\n"
     ]
    },
    {
     "name": "stdout",
     "output_type": "stream",
     "text": [
      "20.0 - 20.0 = 0.0\n",
      "65.0 + 23.0 = 88.0\n",
      "30.0 * 30.0 = 900.0\n",
      "Invalid Input\n",
      "Invalid Input\n",
      "600.0 / 200.0 = 3.0\n"
     ]
    }
   ],
   "source": [
    "def add(x, y):\n",
    "    return x + y\n",
    "\n",
    "def subtract(x,y):\n",
    "    return x - y\n",
    "\n",
    "def multiply(x ,y):\n",
    "    return x * y\n",
    "def divide(x, y):\n",
    "    return x / y\n",
    "\n",
    "print(\"Select operation:\")\n",
    "print(\"1. Add\")\n",
    "print(\"2. Subtract\")\n",
    "print(\"3.Multiply\")\n",
    "print(\"4. Divide\")\n",
    "\n",
    "while True:\n",
    "    choice=input(\"Enter choice(1/2/3/4):\")\n",
    "\n",
    "    if choice in ('1', '2', '3', '4'):\n",
    "        try:\n",
    "\n",
    "            num1=float(input(\"Enter First number:\"))\n",
    "            num2=float(input(\"Enter second number:\"))\n",
    "\n",
    "        except ValueError:\n",
    "            print(\"Invalid input. Please enter a number.\")\n",
    "\n",
    "        if choice=='1':\n",
    "            print(num1, '+', num2, '=',add(num1, num2))\n",
    "\n",
    "        elif choice == '2':\n",
    "            print(num1,'-', num2,'=', subtract(num1, num2))\n",
    "        elif choice == '3':\n",
    "            print(num1,'*', num2,'=', multiply(num1, num2))\n",
    "        elif choice == '4':\n",
    "            print(num1,'/', num2,'=', divide(num1, num2))\n",
    "\n",
    "        next_calculation=input(\"Let's do next calculation? (yes / No):\")\n",
    "        if next_calculation ==\"no\":\n",
    "            break\n",
    "    else:\n",
    "        print(\"Invalid Input\")\n"
   ]
  },
  {
   "cell_type": "markdown",
   "metadata": {},
   "source": [
    "29.Program to Shuffle Deck of Cards"
   ]
  },
  {
   "cell_type": "code",
   "execution_count": 1,
   "metadata": {},
   "outputs": [
    {
     "name": "stdout",
     "output_type": "stream",
     "text": [
      "You got:\n",
      "6 of Club\n",
      "5 of Heart\n",
      "7 of Club\n",
      "10 of Club\n",
      "8 of Club\n"
     ]
    }
   ],
   "source": [
    "import itertools, random\n",
    "\n",
    "deck =list(itertools.product(range(1,14),['spade','Heart','Diamod','Club']))\n",
    "\n",
    "random.shuffle(deck)\n",
    "\n",
    "print(\"You got:\")\n",
    "for i in range(5):\n",
    "    print(deck[i][0],\"of\",deck[i][1])"
   ]
  },
  {
   "cell_type": "markdown",
   "metadata": {},
   "source": [
    "30.Program to Display the Calender"
   ]
  },
  {
   "cell_type": "code",
   "execution_count": 6,
   "metadata": {},
   "outputs": [
    {
     "name": "stdout",
     "output_type": "stream",
     "text": [
      "   November 2023\n",
      "Mo Tu We Th Fr Sa Su\n",
      "       1  2  3  4  5\n",
      " 6  7  8  9 10 11 12\n",
      "13 14 15 16 17 18 19\n",
      "20 21 22 23 24 25 26\n",
      "27 28 29 30\n",
      "\n"
     ]
    }
   ],
   "source": [
    "import calendar\n",
    "\n",
    "yy=2023\n",
    "mm=11\n",
    "\n",
    "print(calendar.month(yy, mm))\n"
   ]
  },
  {
   "cell_type": "markdown",
   "metadata": {},
   "source": [
    "31.Program to fing sum of array"
   ]
  },
  {
   "cell_type": "code",
   "execution_count": 1,
   "metadata": {},
   "outputs": [
    {
     "name": "stdout",
     "output_type": "stream",
     "text": [
      "Sum of an array is: 60\n"
     ]
    }
   ],
   "source": [
    "arr=[10,20,30]\n",
    "\n",
    "ans=sum(arr)\n",
    "\n",
    "print(\"Sum of an array is:\", ans)"
   ]
  },
  {
   "cell_type": "markdown",
   "metadata": {},
   "source": [
    "Or \n"
   ]
  },
  {
   "cell_type": "code",
   "execution_count": 3,
   "metadata": {},
   "outputs": [
    {
     "name": "stdout",
     "output_type": "stream",
     "text": [
      "Sum of the array is: 60\n"
     ]
    }
   ],
   "source": [
    "def sum1(arr):\n",
    "\n",
    "    sum=0\n",
    "\n",
    "    for i in arr:\n",
    "\n",
    "        sum=sum+i\n",
    "\n",
    "    return(sum)\n",
    "\n",
    "if __name__==\"__main__\":\n",
    "\n",
    "    arr=[10,20,30]\n",
    "\n",
    "    n=len(arr)\n",
    "\n",
    "    ans=sum1(arr)\n",
    "\n",
    "    print(\"Sum of the array is:\", ans)"
   ]
  },
  {
   "cell_type": "markdown",
   "metadata": {},
   "source": [
    "32.Python program to find the largest element in an array"
   ]
  },
  {
   "cell_type": "code",
   "execution_count": 7,
   "metadata": {},
   "outputs": [
    {
     "name": "stdout",
     "output_type": "stream",
     "text": [
      "Largest in given array 3333\n"
     ]
    }
   ],
   "source": [
    "def largest (arr, n):\n",
    "    max=arr[0]\n",
    "\n",
    "    for i in range(1,n):\n",
    "        if arr[i]>max:\n",
    "            max=arr[i]\n",
    "    return max\n",
    "\n",
    "arr=[10,23,3333,4,5]\n",
    "n=len(arr)\n",
    "Ans=largest(arr, n)\n",
    "print(\"Largest in given array\", Ans)"
   ]
  },
  {
   "cell_type": "markdown",
   "metadata": {},
   "source": [
    "33.Python program for array Rotation"
   ]
  },
  {
   "cell_type": "code",
   "execution_count": 2,
   "metadata": {},
   "outputs": [
    {
     "name": "stdout",
     "output_type": "stream",
     "text": [
      "Array after left rotation is: [3, 4, 5, 6, 7, 1, 2]\n"
     ]
    }
   ],
   "source": [
    "def rotateArray(arr, n, d):\n",
    "    temp=[]\n",
    "    i=0\n",
    "    while(i<d):\n",
    "        temp.append(arr[i])\n",
    "        i=i+1\n",
    "\n",
    "    i=0\n",
    "    while(d < n):\n",
    "        arr[i] = arr[d]\n",
    "        i=i+1\n",
    "        d=d+1\n",
    "    arr[:] = arr[: i] +temp\n",
    "    return arr\n",
    "\n",
    "arr=[1,2,3,4,5,6,7]\n",
    "print(\"Array after left rotation is:\", end=' ')\n",
    "print(rotateArray(arr, len(arr),2))\n"
   ]
  },
  {
   "cell_type": "markdown",
   "metadata": {},
   "source": [
    "34.Python Program to split the array and add the first part to the end"
   ]
  },
  {
   "cell_type": "code",
   "execution_count": 4,
   "metadata": {},
   "outputs": [
    {
     "name": "stdout",
     "output_type": "stream",
     "text": [
      "5 6 52 36 12 10 "
     ]
    }
   ],
   "source": [
    "def splitArr(arr, n,k):\n",
    "    for i in range(0,k):\n",
    "        x=arr[0]\n",
    "        for j in range(0, n-1):\n",
    "            arr[j]= arr[j+1]\n",
    "\n",
    "        arr[n-1] = x\n",
    "\n",
    "\n",
    "arr=[12,10,5,6,52,36]\n",
    "n=len(arr)\n",
    "position =2\n",
    "\n",
    "splitArr(arr, n, position)\n",
    "\n",
    "for i in range(0, n):\n",
    "    print(arr[i], end=' ')"
   ]
  },
  {
   "cell_type": "markdown",
   "metadata": {},
   "source": [
    "35.Python program to find remainder of array multification divided by n"
   ]
  },
  {
   "cell_type": "code",
   "execution_count": 13,
   "metadata": {},
   "outputs": [
    {
     "ename": "TypeError",
     "evalue": "'int' object is not callable",
     "output_type": "error",
     "traceback": [
      "\u001b[1;31m---------------------------------------------------------------------------\u001b[0m",
      "\u001b[1;31mTypeError\u001b[0m                                 Traceback (most recent call last)",
      "Cell \u001b[1;32mIn[13], line 12\u001b[0m\n\u001b[0;32m      9\u001b[0m     \u001b[38;5;28;01mreturn\u001b[39;00m mul \u001b[38;5;241m%\u001b[39m n\n\u001b[0;32m     11\u001b[0m arr\u001b[38;5;241m=\u001b[39m[\u001b[38;5;241m100\u001b[39m,\u001b[38;5;241m10\u001b[39m,\u001b[38;5;241m5\u001b[39m,\u001b[38;5;241m25\u001b[39m,\u001b[38;5;241m35\u001b[39m,\u001b[38;5;241m14\u001b[39m]\n\u001b[1;32m---> 12\u001b[0m lens\u001b[38;5;241m=\u001b[39m\u001b[38;5;28;43mlen\u001b[39;49m\u001b[43m(\u001b[49m\u001b[43marr\u001b[49m\u001b[43m)\u001b[49m\n\u001b[0;32m     13\u001b[0m n\u001b[38;5;241m=\u001b[39m\u001b[38;5;241m11\u001b[39m\n\u001b[0;32m     15\u001b[0m \u001b[38;5;28mprint\u001b[39m(findremainder(arr, lens,n))\n",
      "\u001b[1;31mTypeError\u001b[0m: 'int' object is not callable"
     ]
    }
   ],
   "source": [
    "def findremainder(arr, lens, n):\n",
    "\n",
    "    mul=1\n",
    "\n",
    "\n",
    "    for i in range(lens):\n",
    "        mul=(mul * (arr[i] % n)) % n\n",
    "\n",
    "    return mul % n\n",
    "\n",
    "arr=[100,10,5,25,35,14]\n",
    "lens=len(arr)\n",
    "n=11\n",
    "\n",
    "print(findremainder(arr, lens,n))"
   ]
  },
  {
   "cell_type": "markdown",
   "metadata": {},
   "source": [
    "36.Python program to check if given array is monotonic"
   ]
  },
  {
   "cell_type": "code",
   "execution_count": 1,
   "metadata": {},
   "outputs": [
    {
     "name": "stdout",
     "output_type": "stream",
     "text": [
      "False\n"
     ]
    }
   ],
   "source": [
    "def isMonotonic(A):\n",
    "    x,y=[],[]\n",
    "    x.extend(A)\n",
    "    y.extend(A)\n",
    "    x.sort()\n",
    "    y.sort(reverse=True)\n",
    "    if(x==A or y==A):\n",
    "        return True\n",
    "    return False\n",
    "\n",
    "A=[5,15,20,10]\n",
    "print(isMonotonic(A))"
   ]
  },
  {
   "cell_type": "markdown",
   "metadata": {},
   "source": [
    "37. Matrix --> Python program to add two Matrics\n"
   ]
  },
  {
   "cell_type": "code",
   "execution_count": 20,
   "metadata": {},
   "outputs": [
    {
     "ename": "TypeError",
     "evalue": "'int' object is not callable",
     "output_type": "error",
     "traceback": [
      "\u001b[1;31m---------------------------------------------------------------------------\u001b[0m",
      "\u001b[1;31mTypeError\u001b[0m                                 Traceback (most recent call last)",
      "Cell \u001b[1;32mIn[20], line 8\u001b[0m\n\u001b[0;32m      1\u001b[0m X\u001b[38;5;241m=\u001b[39m[[\u001b[38;5;241m1\u001b[39m,\u001b[38;5;241m2\u001b[39m,\u001b[38;5;241m3\u001b[39m],\n\u001b[0;32m      2\u001b[0m    [\u001b[38;5;241m4\u001b[39m,\u001b[38;5;241m5\u001b[39m,\u001b[38;5;241m6\u001b[39m],\n\u001b[0;32m      3\u001b[0m    [\u001b[38;5;241m7\u001b[39m,\u001b[38;5;241m8\u001b[39m,\u001b[38;5;241m9\u001b[39m]]\n\u001b[0;32m      4\u001b[0m Y\u001b[38;5;241m=\u001b[39m[[\u001b[38;5;241m9\u001b[39m,\u001b[38;5;241m8\u001b[39m,\u001b[38;5;241m7\u001b[39m],\n\u001b[0;32m      5\u001b[0m    [\u001b[38;5;241m6\u001b[39m,\u001b[38;5;241m5\u001b[39m,\u001b[38;5;241m4\u001b[39m],\n\u001b[0;32m      6\u001b[0m    [\u001b[38;5;241m3\u001b[39m,\u001b[38;5;241m2\u001b[39m,\u001b[38;5;241m1\u001b[39m]]\n\u001b[1;32m----> 8\u001b[0m result\u001b[38;5;241m=\u001b[39m[[X[i][j] \u001b[38;5;241m+\u001b[39m Y[i][j] \u001b[38;5;28;01mfor\u001b[39;00m j \u001b[38;5;129;01min\u001b[39;00m \u001b[38;5;28mrange\u001b[39m (\u001b[38;5;28mlen\u001b[39m(X[\u001b[38;5;241m0\u001b[39m]))] \u001b[38;5;28;01mfor\u001b[39;00m i \u001b[38;5;129;01min\u001b[39;00m \u001b[38;5;28mrange\u001b[39m(\u001b[38;5;28;43mlen\u001b[39;49m\u001b[43m(\u001b[49m\u001b[43mX\u001b[49m\u001b[43m)\u001b[49m)]\n\u001b[0;32m     10\u001b[0m \u001b[38;5;28;01mfor\u001b[39;00m r \u001b[38;5;129;01min\u001b[39;00m result:\n\u001b[0;32m     11\u001b[0m     \u001b[38;5;28mprint\u001b[39m(r)\n",
      "\u001b[1;31mTypeError\u001b[0m: 'int' object is not callable"
     ]
    }
   ],
   "source": [
    "X=[[1,2,3],\n",
    "   [4,5,6],\n",
    "   [7,8,9]]\n",
    "Y=[[9,8,7],\n",
    "   [6,5,4],\n",
    "   [3,2,1]]\n",
    "\n",
    "result=[[X[i][j] + Y[i][j] for j in range (len(X[0]))] for i in range(len(X))]\n",
    "\n",
    "for r in result:\n",
    "    print(r)\n"
   ]
  },
  {
   "cell_type": "markdown",
   "metadata": {},
   "source": [
    "38.Python program for matrix Product"
   ]
  },
  {
   "cell_type": "code",
   "execution_count": 3,
   "metadata": {},
   "outputs": [
    {
     "name": "stdout",
     "output_type": "stream",
     "text": [
      "The total element product in lists is:1622880\n"
     ]
    }
   ],
   "source": [
    "test_list=[[1,4,5],[7,3],[4],[46,7,3]]\n",
    "x=[]\n",
    "for i in test_list:\n",
    "    x.extend(i)\n",
    "\n",
    "res=1\n",
    "for j in x:\n",
    "    res *=j\n",
    "print(\"The total element product in lists is:\" +str(res))"
   ]
  },
  {
   "cell_type": "markdown",
   "metadata": {},
   "source": [
    "39.Adding and Subtracting matrics in Python"
   ]
  },
  {
   "cell_type": "code",
   "execution_count": 5,
   "metadata": {},
   "outputs": [
    {
     "name": "stdout",
     "output_type": "stream",
     "text": [
      "Printing elements of first matrix\n",
      "[[1 2]\n",
      " [3 4]]\n",
      "Printing elements of second matrix\n",
      "[[4 5]\n",
      " [6 7]]\n",
      "Addition of two matrix\n",
      "[[ 5  7]\n",
      " [ 9 11]]\n",
      "Subtraction of two matrix\n",
      "[[-3 -3]\n",
      " [-3 -3]]\n"
     ]
    }
   ],
   "source": [
    "import numpy as np\n",
    " \n",
    " \n",
    "\n",
    "A = np.array([[1, 2], [3, 4]])\n",
    "\n",
    "B = np.array([[4, 5], [6, 7]])\n",
    " \n",
    "print(\"Printing elements of first matrix\")\n",
    "print(A)\n",
    "print(\"Printing elements of second matrix\")\n",
    "print(B)\n",
    "\n",
    "print(\"Addition of two matrix\")\n",
    "print(np.add(A, B))\n",
    "print(\"Subtraction of two matrix\")\n",
    "print(np.subtract(A, B))"
   ]
  },
  {
   "cell_type": "markdown",
   "metadata": {},
   "source": [
    "40. Using python Transpose a matrix in Single line "
   ]
  },
  {
   "cell_type": "code",
   "execution_count": 6,
   "metadata": {},
   "outputs": [
    {
     "name": "stdout",
     "output_type": "stream",
     "text": [
      "[[1, 2, 3], [4, 5, 6]]\n",
      "\n",
      "\n",
      "[[1 4]\n",
      " [2 5]\n",
      " [3 6]]\n"
     ]
    }
   ],
   "source": [
    "import numpy\n",
    "matrix = [[1, 2, 3], [4, 5, 6]]\n",
    "print(matrix)\n",
    "print(\"\\n\")\n",
    "print(numpy.transpose(matrix))"
   ]
  },
  {
   "cell_type": "markdown",
   "metadata": {},
   "source": [
    "41.Python program to Matrix creation of n*n"
   ]
  },
  {
   "cell_type": "code",
   "execution_count": 7,
   "metadata": {},
   "outputs": [
    {
     "name": "stdout",
     "output_type": "stream",
     "text": [
      "The dimension : 4\n",
      "The created matrix of N * N: [[1, 2, 3, 4], [5, 6, 7, 8], [9, 10, 11, 12], [13, 14, 15, 16]]\n"
     ]
    }
   ],
   "source": [
    "N = 4\n",
    " \n",
    "\n",
    "print(\"The dimension : \" + str(N))\n",
    " \n",
    "\n",
    "res = []\n",
    "for i in range(N):\n",
    "  row = []\n",
    "  for j in range(N):\n",
    "    row.append(1 + N * i + j)\n",
    "  res.append(row)\n",
    "\n",
    "print(\"The created matrix of N * N: \" + str(res))"
   ]
  },
  {
   "cell_type": "markdown",
   "metadata": {},
   "source": [
    "41.Get Kth column of Matrix"
   ]
  },
  {
   "cell_type": "code",
   "execution_count": 10,
   "metadata": {},
   "outputs": [
    {
     "name": "stdout",
     "output_type": "stream",
     "text": [
      "The original list is : [[4, 5, 6], [8, 1, 10], [7, 12, 5]]\n",
      "The Kth column of matrix is : [5, 1, 12]\n"
     ]
    }
   ],
   "source": [
    "\n",
    "test_list = [[4, 5, 6], [8, 1, 10], [7, 12, 5]]\n",
    "\n",
    "print(\"The original list is : \" + str(test_list))\n",
    "\n",
    "K = 1\n",
    "res = [sub[K] for sub in test_list]\n",
    "print(\"The Kth column of matrix is : \" + str(res))"
   ]
  },
  {
   "cell_type": "markdown",
   "metadata": {},
   "source": [
    "42. Python - Vertcial Concatenation in Matrix"
   ]
  },
  {
   "cell_type": "code",
   "execution_count": 11,
   "metadata": {},
   "outputs": [
    {
     "name": "stdout",
     "output_type": "stream",
     "text": [
      "The original list : [['Gfg', 'good'], ['is', 'for'], ['Best']]\n",
      "List after column Concatenation : ['GfgisBest', 'goodfor']\n"
     ]
    }
   ],
   "source": [
    "from itertools import zip_longest\n",
    " \n",
    "\n",
    "test_list = [[\"Gfg\", \"good\"], [\"is\", \"for\"], [\"Best\"]]\n",
    " \n",
    "\n",
    "print(\"The original list : \" + str(test_list))\n",
    " \n",
    "\n",
    "res = [\"\".join(ele) for ele in zip_longest(*test_list, fillvalue =\"\")]\n",
    " \n",
    "print(\"List after column Concatenation : \" + str(res))"
   ]
  },
  {
   "cell_type": "markdown",
   "metadata": {},
   "source": [
    "43.Python program to check whether the string is Symmetrical or Palindrome"
   ]
  },
  {
   "cell_type": "code",
   "execution_count": 14,
   "metadata": {},
   "outputs": [
    {
     "name": "stdout",
     "output_type": "stream",
     "text": [
      "khokho string is symmetrical\n",
      "khokho string is not palindrome\n"
     ]
    }
   ],
   "source": [
    "string = 'khokho'\n",
    "half = int(len(string) / 2)\n",
    " \n",
    " \n",
    "first_str = string[:half]\n",
    "second_str = string[half:]\n",
    " \n",
    " \n",
    "\n",
    "if first_str == second_str:\n",
    "    print(string, 'string is symmetrical')\n",
    "else:\n",
    "    print(string, 'string is not symmetrical')\n",
    " \n",
    "\n",
    "if first_str == second_str[::-1]:  # ''.join(reversed(second_str)) [slower]\n",
    "    print(string, 'string is palindrome')\n",
    "else:\n",
    "    print(string, 'string is not palindrome')"
   ]
  },
  {
   "cell_type": "markdown",
   "metadata": {},
   "source": [
    "44.Reverse words in a Given string in Python"
   ]
  },
  {
   "cell_type": "code",
   "execution_count": 15,
   "metadata": {},
   "outputs": [
    {
     "name": "stdout",
     "output_type": "stream",
     "text": [
      "code practice quiz geeks\n"
     ]
    }
   ],
   "source": [
    "string = \"geeks quiz practice code\"\n",
    "\n",
    "s = string.split()[::-1]\n",
    "l = []\n",
    "for i in s:\n",
    "    l.append(i)\n",
    "\n",
    "print(\" \".join(l))"
   ]
  },
  {
   "cell_type": "markdown",
   "metadata": {},
   "source": [
    "45. Find the size of a Tuple in Python"
   ]
  },
  {
   "cell_type": "code",
   "execution_count": 16,
   "metadata": {},
   "outputs": [
    {
     "name": "stdout",
     "output_type": "stream",
     "text": [
      "Size of Tuple1: 72bytes\n",
      "Size of Tuple2: 72bytes\n",
      "Size of Tuple3: 56bytes\n"
     ]
    }
   ],
   "source": [
    "Tuple1 = (\"A\", 1, \"B\", 2, \"C\", 3)\n",
    "Tuple2 = (\"Geek1\", \"Raju\", \"Geek2\", \"Nikhil\", \"Geek3\", \"Deepanshu\")\n",
    "Tuple3 = ((1, \"Lion\"), ( 2, \"Tiger\"), (3, \"Fox\"), (4, \"Wolf\"))\n",
    " \n",
    "\n",
    "print(\"Size of Tuple1: \" + str(Tuple1.__sizeof__()) + \"bytes\")\n",
    "print(\"Size of Tuple2: \" + str(Tuple2.__sizeof__()) + \"bytes\")\n",
    "print(\"Size of Tuple3: \" + str(Tuple3.__sizeof__()) + \"bytes\")"
   ]
  },
  {
   "cell_type": "markdown",
   "metadata": {},
   "source": [
    "46.Python Program for Binary Search(Recursice and Iterative)"
   ]
  },
  {
   "cell_type": "code",
   "execution_count": 24,
   "metadata": {},
   "outputs": [
    {
     "name": "stdout",
     "output_type": "stream",
     "text": [
      "Element is present at index 0\n"
     ]
    }
   ],
   "source": [
    "def binary_search(arr, low, high, x):\n",
    " \n",
    " \n",
    "    if high >= low:\n",
    " \n",
    "        mid = (high + low) // 2\n",
    " \n",
    "       \n",
    "        if arr[mid] == x:\n",
    "            return mid\n",
    " \n",
    "       \n",
    "        elif arr[mid] > x:\n",
    "            return binary_search(arr, low, mid - 1, x)\n",
    " \n",
    "        \n",
    "        else:\n",
    "            return binary_search(arr, mid + 1, high, x)\n",
    " \n",
    "    else:\n",
    "    \n",
    "        return -1\n",
    " \n",
    "\n",
    "arr = [ 2, 3, 4, 10, 40 ]\n",
    "x = 2\n",
    " \n",
    "\n",
    "result = binary_search(arr, 0, len(arr)-1, x)\n",
    " \n",
    "if result != -1:\n",
    "    print(\"Element is present at index\", str(result))\n",
    "else:\n",
    "    print(\"Element is not present in array\")"
   ]
  },
  {
   "cell_type": "markdown",
   "metadata": {},
   "source": [
    "47.Python program for linear search"
   ]
  },
  {
   "cell_type": "code",
   "execution_count": 34,
   "metadata": {},
   "outputs": [
    {
     "name": "stdout",
     "output_type": "stream",
     "text": [
      "Element not in the list\n"
     ]
    }
   ],
   "source": [
    "def search(arr, x):\n",
    " \n",
    "    for i in range(len(arr)):\n",
    " \n",
    "        if arr[i] == x:\n",
    "            return i\n",
    " \n",
    "    return -1\n",
    "\n",
    "arr=[12,13,4,5]\n",
    "x=1\n",
    "\n",
    "result = search(arr,x)\n",
    "if result!=-1:\n",
    "    print(result)\n",
    "else:\n",
    "    print(\"Element not in the list\")\n"
   ]
  },
  {
   "cell_type": "markdown",
   "metadata": {},
   "source": [
    "48.Python Program for insertion sort"
   ]
  },
  {
   "cell_type": "code",
   "execution_count": 35,
   "metadata": {},
   "outputs": [
    {
     "name": "stdout",
     "output_type": "stream",
     "text": [
      "[5, 6, 11, 12, 13]\n"
     ]
    }
   ],
   "source": [
    "def insertionSort(arr):\n",
    "    n = len(arr)  \n",
    "      \n",
    "    if n <= 1:\n",
    "        return  \n",
    " \n",
    "    for i in range(1, n):  \n",
    "        key = arr[i] \n",
    "        j = i-1\n",
    "        while j >= 0 and key < arr[j]:  \n",
    "            arr[j+1] = arr[j]  \n",
    "            j -= 1\n",
    "        arr[j+1] = key \n",
    "  \n",
    "arr = [12, 11, 13, 5, 6]\n",
    "insertionSort(arr)\n",
    "print(arr)"
   ]
  },
  {
   "cell_type": "markdown",
   "metadata": {},
   "source": [
    "49. Python Program for Recursive insertion sort"
   ]
  },
  {
   "cell_type": "code",
   "execution_count": 36,
   "metadata": {},
   "outputs": [
    {
     "name": "stdout",
     "output_type": "stream",
     "text": [
      "[-7, -3, 0, 2, 5, 6, 10, 11]\n"
     ]
    }
   ],
   "source": [
    "def insertionSortRecursive(arr, n):\n",
    "\n",
    "    if n <= 1:\n",
    "        return\n",
    " \n",
    "    \n",
    "    insertionSortRecursive(arr, n - 1)\n",
    " \n",
    "    \n",
    "    last = arr[n - 1]\n",
    "    j = n - 2\n",
    " \n",
    "\n",
    "    while (j >= 0 and arr[j] > last):\n",
    "        arr[j + 1] = arr[j]\n",
    "        j = j - 1\n",
    "    arr[j + 1] = last\n",
    " \n",
    " \n",
    "\n",
    "if __name__ == '__main__':\n",
    "    A = [-7, 11, 6, 0, -3, 5, 10, 2]\n",
    "    n = len(A)\n",
    "    insertionSortRecursive(A, n)\n",
    "    print(A)\n",
    " \n"
   ]
  },
  {
   "cell_type": "markdown",
   "metadata": {},
   "source": [
    "50.Print an Inverted star Pattern"
   ]
  },
  {
   "cell_type": "code",
   "execution_count": 4,
   "metadata": {},
   "outputs": [
    {
     "name": "stdout",
     "output_type": "stream",
     "text": [
      "*\n",
      "**\n",
      "***\n",
      "****\n",
      "*****\n",
      "******\n"
     ]
    }
   ],
   "source": [
    "def inverted_star_pattern_recursive(height):\n",
    "    if height > 0:\n",
    "        inverted_star_pattern_recursive(height - 1)\n",
    "        print(height * \"*\")\n",
    " \n",
    "height = 6\n",
    "inverted_star_pattern_recursive(height)"
   ]
  },
  {
   "cell_type": "markdown",
   "metadata": {},
   "source": [
    "51.Program to print double sided stair - case pattern"
   ]
  },
  {
   "cell_type": "code",
   "execution_count": 2,
   "metadata": {},
   "outputs": [
    {
     "name": "stdout",
     "output_type": "stream",
     "text": [
      "*          *\n",
      "**        **\n",
      "***      ***\n",
      "****    ****\n",
      "*****  *****\n",
      "************\n"
     ]
    }
   ],
   "source": [
    "\n",
    "\n",
    "def print_double_sided_staircase(height):\n",
    "    for i in range(1, height + 1):\n",
    "        for j in range(i):\n",
    "            print(\"*\", end=\"\")\n",
    "         \n",
    "        print(\" \" * (2 * height - 2 * i), end=\"\")\n",
    "        \n",
    "        for j in range(i):\n",
    "            print(\"*\", end=\"\")\n",
    "         \n",
    "        print()  \n",
    "height = int(input(\"Enter the height of the double-sided staircase: \"))\n",
    "print_double_sided_staircase(height)"
   ]
  },
  {
   "cell_type": "markdown",
   "metadata": {},
   "source": [
    "52. Python Program to print the pattern 'G'"
   ]
  },
  {
   "cell_type": "code",
   "execution_count": 1,
   "metadata": {},
   "outputs": [
    {
     "name": "stdout",
     "output_type": "stream",
     "text": [
      "  ***  \n",
      " *     \n",
      " *     \n",
      " * *** \n",
      " *   * \n",
      " *   * \n",
      "  ***  \n",
      "\n"
     ]
    }
   ],
   "source": [
    "def Pattern(line): \n",
    "    pat=\"\" \n",
    "    for i in range(0,line):     \n",
    "        for j in range(0,line):      \n",
    "            if ((j == 1 and i != 0 and i != line-1) or ((i == 0 or\n",
    "                i == line-1) and j > 1 and j < line-2) or (i == ((line-1)/2) \n",
    "                and j > line-5 and j < line-1) or (j == line-2 and\n",
    "                i != 0 and i != line-1 and i >=((line-1)/2))):   \n",
    "                pat=pat+\"*\"   \n",
    "            else:       \n",
    "                pat=pat+\" \"   \n",
    "        pat=pat+\"\\n\"   \n",
    "    return pat \n",
    "line = 7\n",
    "print(Pattern(line)) "
   ]
  },
  {
   "cell_type": "markdown",
   "metadata": {},
   "source": [
    "53. Python program to swap first and element of the list"
   ]
  },
  {
   "cell_type": "code",
   "execution_count": 4,
   "metadata": {},
   "outputs": [
    {
     "name": "stdout",
     "output_type": "stream",
     "text": [
      "[6, 3, 5, 12]\n"
     ]
    }
   ],
   "source": [
    "def swapList(newList):\n",
    "    newList[0], newList[-1]= newList[-1], newList[0]\n",
    "\n",
    "    return newList\n",
    "\n",
    "newList=[12,3,5,6]\n",
    "print(swapList(newList))\n",
    "\n"
   ]
  },
  {
   "cell_type": "markdown",
   "metadata": {},
   "source": [
    "54.Swap two elements in a  list using comma assginemsnt"
   ]
  },
  {
   "cell_type": "code",
   "execution_count": 7,
   "metadata": {},
   "outputs": [
    {
     "name": "stdout",
     "output_type": "stream",
     "text": [
      "[5, 3, 12, 6]\n"
     ]
    }
   ],
   "source": [
    "def swapPositions(list, pos1, pos2):\n",
    "\n",
    "    list[pos1], list[pos2]= list[pos2],list[pos1]\n",
    "    return list\n",
    "\n",
    "list=[12,3,5,6]\n",
    "pos1, pos2= 1,3\n",
    "print(swapPositions(list, pos1-1, pos2-1))"
   ]
  },
  {
   "cell_type": "markdown",
   "metadata": {},
   "source": [
    "55. Python program to find lenght of list"
   ]
  },
  {
   "cell_type": "code",
   "execution_count": 8,
   "metadata": {},
   "outputs": [
    {
     "name": "stdout",
     "output_type": "stream",
     "text": [
      "The lenght of list is: 5\n"
     ]
    }
   ],
   "source": [
    "li=[10,20,2,4,5]\n",
    "n=len(li)\n",
    "print(\"The lenght of list is:\", n)"
   ]
  },
  {
   "cell_type": "markdown",
   "metadata": {},
   "source": [
    "56.Program to check if element exist in list"
   ]
  },
  {
   "cell_type": "code",
   "execution_count": 11,
   "metadata": {},
   "outputs": [
    {
     "name": "stdout",
     "output_type": "stream",
     "text": [
      "exist\n"
     ]
    }
   ],
   "source": [
    "lst=[ 1, 6, 3, 5, 3, 4 ]\n",
    "i=5\n",
    "if i in lst: \n",
    "    print(\"exist\") \n",
    "else: \n",
    "    print(\"not exist\")"
   ]
  },
  {
   "cell_type": "markdown",
   "metadata": {},
   "source": [
    "57. Clear a list in Python"
   ]
  },
  {
   "cell_type": "code",
   "execution_count": 12,
   "metadata": {},
   "outputs": [
    {
     "name": "stdout",
     "output_type": "stream",
     "text": [
      "Before [1, 2, 4, 5]\n",
      "After []\n"
     ]
    }
   ],
   "source": [
    "My_list=[1,2,4,5]\n",
    "print(\"Before\", My_list)\n",
    "My_list.clear()\n",
    "print(\"After\", My_list)"
   ]
  },
  {
   "cell_type": "markdown",
   "metadata": {},
   "source": [
    "58.Reversing a List"
   ]
  },
  {
   "cell_type": "code",
   "execution_count": 21,
   "metadata": {},
   "outputs": [
    {
     "name": "stdout",
     "output_type": "stream",
     "text": [
      "[4, 12, 5, 4, 23, 10]\n"
     ]
    }
   ],
   "source": [
    "def Reverse(lst):\n",
    "    lst=lst[::-1]\n",
    "    return lst\n",
    "\n",
    "lst=[10,23,4,5,12,4]\n",
    "print(Reverse(lst))"
   ]
  },
  {
   "cell_type": "markdown",
   "metadata": {},
   "source": [
    "59.Python Program to find sum of Elements in list"
   ]
  },
  {
   "cell_type": "code",
   "execution_count": 1,
   "metadata": {},
   "outputs": [
    {
     "name": "stdout",
     "output_type": "stream",
     "text": [
      "Sum of all elements in given list:  74\n"
     ]
    }
   ],
   "source": [
    "\n",
    "total = 0\n",
    " \n",
    "list1 = [11, 5, 17, 18, 23]\n",
    "\n",
    "for ele in range(0, len(list1)):\n",
    "    total = total + list1[ele]\n",
    "\n",
    "print(\"Sum of all elements in given list: \", total)"
   ]
  },
  {
   "cell_type": "markdown",
   "metadata": {},
   "source": [
    "60.Python program to Multiplay all numbers in the list"
   ]
  },
  {
   "cell_type": "code",
   "execution_count": 5,
   "metadata": {},
   "outputs": [
    {
     "name": "stdout",
     "output_type": "stream",
     "text": [
      "6\n",
      "36\n"
     ]
    }
   ],
   "source": [
    "def multiplylist(mylist):\n",
    "    result=1\n",
    "\n",
    "    for x in mylist:\n",
    "        result=result * x\n",
    "    return result\n",
    "\n",
    "list1=[1,2,3]\n",
    "list2=[3,2,6]\n",
    "print(multiplylist(list1))\n",
    "print(multiplylist(list2))"
   ]
  },
  {
   "cell_type": "markdown",
   "metadata": {},
   "source": [
    "61.Python Program to find smallest number in a list"
   ]
  },
  {
   "cell_type": "code",
   "execution_count": 3,
   "metadata": {},
   "outputs": [
    {
     "name": "stdout",
     "output_type": "stream",
     "text": [
      "Smallest element is: 3\n"
     ]
    }
   ],
   "source": [
    "list1=[12,3,4,5]\n",
    "list1.sort()\n",
    "print(\"Smallest element is:\", list1[0])"
   ]
  },
  {
   "cell_type": "markdown",
   "metadata": {},
   "source": [
    "62.Python program to find second largest number in list"
   ]
  },
  {
   "cell_type": "code",
   "execution_count": 17,
   "metadata": {},
   "outputs": [
    {
     "name": "stdout",
     "output_type": "stream",
     "text": [
      "Second largest element is: 98\n"
     ]
    }
   ],
   "source": [
    "list1 = [10, 20, 20, 4,  45, 98, 99]\n",
    " \n",
    "list2 = list(set(list1))\n",
    " \n",
    "\n",
    "list2.sort()\n",
    " \n",
    "print(\"Second largest element is:\", list2[-2])"
   ]
  },
  {
   "cell_type": "markdown",
   "metadata": {},
   "source": [
    "63. Python program to find N largest number in list"
   ]
  },
  {
   "cell_type": "code",
   "execution_count": 18,
   "metadata": {},
   "outputs": [
    {
     "name": "stdout",
     "output_type": "stream",
     "text": [
      "[85, 41]\n"
     ]
    }
   ],
   "source": [
    "\n",
    "\n",
    "\n",
    "def Nmaxelements(list1, N):\n",
    "\tfinal_list = []\n",
    "\n",
    "\tfor i in range(0, N):\n",
    "\t\tmax1 = 0\n",
    "\n",
    "\t\tfor j in range(len(list1)):\n",
    "\t\t\tif list1[j] > max1:\n",
    "\t\t\t\tmax1 = list1[j]\n",
    "\n",
    "\t\tlist1.remove(max1)\n",
    "\t\tfinal_list.append(max1)\n",
    "\n",
    "\tprint(final_list)\n",
    "\n",
    "\n",
    "list1 = [2, 6, 41, 85, 0, 3, 7, 6, 10]\n",
    "N = 2\n",
    "Nmaxelements(list1, N)\n"
   ]
  },
  {
   "cell_type": "markdown",
   "metadata": {},
   "source": [
    "64.Python program to print even numbers in a list"
   ]
  },
  {
   "cell_type": "code",
   "execution_count": 7,
   "metadata": {},
   "outputs": [
    {
     "name": "stdout",
     "output_type": "stream",
     "text": [
      "10 12 4 "
     ]
    }
   ],
   "source": [
    "list1=[10, 12, 4]\n",
    "\n",
    "for num in list1:\n",
    "    if num % 2==0:\n",
    "        print(num, end=\" \")"
   ]
  },
  {
   "cell_type": "markdown",
   "metadata": {},
   "source": [
    "65. Pyhton program to print odd numbers in a list"
   ]
  },
  {
   "cell_type": "code",
   "execution_count": 9,
   "metadata": {},
   "outputs": [
    {
     "name": "stdout",
     "output_type": "stream",
     "text": [
      "5 89 1 "
     ]
    }
   ],
   "source": [
    "list1=[10, 12, 4,5,56,89,1]\n",
    "\n",
    "for num in list1:\n",
    "    if num % 2!=0:\n",
    "        print(num, end=\" \")"
   ]
  },
  {
   "cell_type": "markdown",
   "metadata": {},
   "source": [
    "66.Python program to print all even numbers in a range"
   ]
  },
  {
   "cell_type": "code",
   "execution_count": 10,
   "metadata": {},
   "outputs": [
    {
     "name": "stdout",
     "output_type": "stream",
     "text": [
      "4 6 8 10 12 14 "
     ]
    }
   ],
   "source": [
    "for even_numbers in range(4,15,2):\n",
    "\n",
    "    print(even_numbers, end=\" \")"
   ]
  },
  {
   "cell_type": "markdown",
   "metadata": {},
   "source": [
    "67.Python program to print positive numbers in a list"
   ]
  },
  {
   "cell_type": "code",
   "execution_count": 12,
   "metadata": {},
   "outputs": [
    {
     "name": "stdout",
     "output_type": "stream",
     "text": [
      "Positive numbers in the list: [21, 4, 93]\n"
     ]
    }
   ],
   "source": [
    "list1=[-10, 21 , 4 , -45 ,-66, 93, -11]\n",
    "\n",
    "pos_num=list(filter(lambda x:(x>=0),list1))\n",
    "\n",
    "print(\"Positive numbers in the list:\", pos_num)"
   ]
  },
  {
   "cell_type": "markdown",
   "metadata": {},
   "source": [
    "68.Python program to print negative numbers in a list"
   ]
  },
  {
   "cell_type": "code",
   "execution_count": 15,
   "metadata": {},
   "outputs": [
    {
     "name": "stdout",
     "output_type": "stream",
     "text": [
      "-21 -93 "
     ]
    }
   ],
   "source": [
    "list1=[11,-21,0,45,66,-93]\n",
    "\n",
    "for num in list1:\n",
    "    if num < 0:\n",
    "        print(num, end=\" \")\n",
    "\n"
   ]
  },
  {
   "cell_type": "markdown",
   "metadata": {},
   "source": [
    "69.Python program to print all positive numbers in a range"
   ]
  },
  {
   "cell_type": "code",
   "execution_count": 19,
   "metadata": {},
   "outputs": [
    {
     "name": "stdout",
     "output_type": "stream",
     "text": [
      "0 1 2 3 4 5 6 7 8 9 10 11 12 13 14 15 16 17 18 19 "
     ]
    }
   ],
   "source": [
    "start, end=-4, 19\n",
    "for num in range(start , end +1 ):\n",
    "    if num >= 0:\n",
    "        print(num, end= \" \")"
   ]
  },
  {
   "cell_type": "markdown",
   "metadata": {},
   "source": [
    "70.Check if String Contains substring in Python"
   ]
  },
  {
   "cell_type": "code",
   "execution_count": 2,
   "metadata": {},
   "outputs": [
    {
     "name": "stdout",
     "output_type": "stream",
     "text": [
      "Yes! it is present in string\n"
     ]
    }
   ],
   "source": [
    "Mystring=\"Hardwork beats talent, Consistency makes hardwork\"\n",
    "if \"Hardwork\" in Mystring:\n",
    "    print(\"Yes! it is present in string\")\n",
    "else:\n",
    "    print(\"No! it is not presenet\")\n",
    "\n"
   ]
  },
  {
   "cell_type": "markdown",
   "metadata": {},
   "source": [
    "71.Find length of a string"
   ]
  },
  {
   "cell_type": "code",
   "execution_count": 7,
   "metadata": {},
   "outputs": [
    {
     "name": "stdout",
     "output_type": "stream",
     "text": [
      "Length of the given string is: 5\n"
     ]
    }
   ],
   "source": [
    "str=\"Hello\"\n",
    "print( \"Length of the given string is:\",len(str))"
   ]
  },
  {
   "cell_type": "markdown",
   "metadata": {},
   "source": [
    "72.Python program to print even lenght words in string"
   ]
  },
  {
   "cell_type": "code",
   "execution_count": 13,
   "metadata": {},
   "outputs": [
    {
     "name": "stdout",
     "output_type": "stream",
     "text": [
      "\n",
      "Harder\n",
      "work\n",
      "better\n",
      "None\n"
     ]
    }
   ],
   "source": [
    "def printWords(s):\n",
    "\n",
    "    s=s.split(' ')\n",
    "\n",
    "    for word in s:\n",
    "\n",
    "        if len(word)%2==0:\n",
    "            print(word)\n",
    "\n",
    "s=\" The Harder you work the better you get\"\n",
    "print(printWords(s))"
   ]
  },
  {
   "cell_type": "markdown",
   "metadata": {},
   "source": [
    "73.Implementation of quick sort using python"
   ]
  },
  {
   "cell_type": "code",
   "execution_count": 4,
   "metadata": {},
   "outputs": [
    {
     "name": "stdout",
     "output_type": "stream",
     "text": [
      "Sorted array:\n",
      "1 5 7 8 9 10 "
     ]
    }
   ],
   "source": [
    "\n",
    "def partition(array, low, high):\n",
    "\n",
    "\t\n",
    "\tpivot = array[high]\n",
    "\n",
    "\t\n",
    "\ti = low - 1\n",
    "\n",
    "\t\n",
    "\tfor j in range(low, high):\n",
    "\t\tif array[j] <= pivot:\n",
    "\n",
    "\t\t\ti = i + 1\n",
    "\n",
    "\t\t\n",
    "\t\t\t(array[i], array[j]) = (array[j], array[i])\n",
    "\n",
    "\n",
    "\t(array[i + 1], array[high]) = (array[high], array[i + 1])\n",
    "\n",
    "\t\n",
    "\treturn i + 1\n",
    "\n",
    "\n",
    "\n",
    "def quicksort(array, low, high):\n",
    "\tif low < high:\n",
    "\n",
    "\t\t\n",
    "\t\tpi = partition(array, low, high)\n",
    "\n",
    "\t\t\n",
    "\t\tquicksort(array, low, pi - 1)\n",
    "\n",
    "\t\tquicksort(array, pi + 1, high)\n",
    "\n",
    "\n",
    "if __name__ == '__main__':\n",
    "\tarray = [10, 7, 8, 9, 1, 5]\n",
    "\tN = len(array)\n",
    "\tquicksort(array, 0, N - 1)\n",
    "\tprint('Sorted array:')\n",
    "\tfor x in array:\n",
    "\t\tprint(x, end=\" \")\n",
    "\n",
    "\n"
   ]
  },
  {
   "cell_type": "markdown",
   "metadata": {},
   "source": [
    "74.Python program to read file word by word"
   ]
  },
  {
   "cell_type": "code",
   "execution_count": 5,
   "metadata": {},
   "outputs": [
    {
     "name": "stdout",
     "output_type": "stream",
     "text": [
      "1\n",
      "EarlyWakeup\n",
      "2\n",
      "Workout\n",
      "3\n",
      "Food\n",
      "4\n",
      "Coding\n",
      "5\n",
      "Repeat\n"
     ]
    }
   ],
   "source": [
    "file=open('Hello.txt', 'r')\n",
    "for line in file:\n",
    "    for word in line.split():\n",
    "        print(word)"
   ]
  },
  {
   "cell_type": "markdown",
   "metadata": {},
   "source": [
    "75.Python program to read character by character form a file"
   ]
  },
  {
   "cell_type": "code",
   "execution_count": 6,
   "metadata": {},
   "outputs": [
    {
     "name": "stdout",
     "output_type": "stream",
     "text": [
      "1\n",
      " \n",
      "E\n",
      "a\n",
      "r\n",
      "l\n",
      "y\n",
      "W\n",
      "a\n",
      "k\n",
      "e\n",
      "u\n",
      "p\n",
      " \n",
      "2\n",
      " \n",
      "W\n",
      "o\n",
      "r\n",
      "k\n",
      "o\n",
      "u\n",
      "t\n",
      " \n",
      "3\n",
      " \n",
      "F\n",
      "o\n",
      "o\n",
      "d\n",
      " \n",
      "4\n",
      " \n",
      "C\n",
      "o\n",
      "d\n",
      "i\n",
      "n\n",
      "g\n",
      " \n",
      "5\n",
      " \n",
      "R\n",
      "e\n",
      "p\n",
      "e\n",
      "a\n",
      "t\n"
     ]
    }
   ],
   "source": [
    "file=open('Hello.txt', 'r')\n",
    "while 1:\n",
    "\n",
    "    char = file.read(1)\n",
    "    if not char:\n",
    "        break\n",
    "    print(char)\n",
    "file.close()"
   ]
  },
  {
   "cell_type": "markdown",
   "metadata": {},
   "source": [
    "76.Count number of lines in a text file in python"
   ]
  },
  {
   "cell_type": "code",
   "execution_count": 7,
   "metadata": {},
   "outputs": [
    {
     "name": "stdout",
     "output_type": "stream",
     "text": [
      "Total Number of lines: 1\n"
     ]
    }
   ],
   "source": [
    "file=open('Hello.txt','r')\n",
    "lines=len(file.readlines())\n",
    "print(\"Total Number of lines:\", lines)"
   ]
  }
 ],
 "metadata": {
  "kernelspec": {
   "display_name": "Python 3",
   "language": "python",
   "name": "python3"
  },
  "language_info": {
   "codemirror_mode": {
    "name": "ipython",
    "version": 3
   },
   "file_extension": ".py",
   "mimetype": "text/x-python",
   "name": "python",
   "nbconvert_exporter": "python",
   "pygments_lexer": "ipython3",
   "version": "3.11.1"
  }
 },
 "nbformat": 4,
 "nbformat_minor": 2
}
