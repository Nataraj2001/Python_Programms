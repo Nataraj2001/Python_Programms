{
 "cells": [
  {
   "cell_type": "markdown",
   "metadata": {},
   "source": [
    "1. Swap two numbers\n"
   ]
  },
  {
   "cell_type": "code",
   "execution_count": 1,
   "metadata": {},
   "outputs": [
    {
     "name": "stdout",
     "output_type": "stream",
     "text": [
      "Before swap  56\n",
      "Before swap  12\n",
      "After swap 12\n",
      "After swap 56\n"
     ]
    }
   ],
   "source": [
    "num1=int(input(\"Enter the value of num1\"))\n",
    "num2=int(input(\"Enter the value of num2\"))\n",
    "print(\"Before swap \", num1)\n",
    "print(\"Before swap \", num2)\n",
    "\n",
    "num1, num2=num2, num1\n",
    "\n",
    "print(\"After swap\", num1)\n",
    "print(\"After swap\", num2)"
   ]
  },
  {
   "cell_type": "markdown",
   "metadata": {},
   "source": [
    "2. Check number is Prime or Not\n"
   ]
  },
  {
   "cell_type": "code",
   "execution_count": 10,
   "metadata": {},
   "outputs": [
    {
     "name": "stdout",
     "output_type": "stream",
     "text": [
      "2 Is Prime number\n"
     ]
    }
   ],
   "source": [
    "num=2\n",
    "count=0\n",
    "\n",
    "if num>1:\n",
    "    for i in range(1, num+1):\n",
    "        if(num%i)==0:\n",
    "            count=count+1\n",
    "    if count==2:\n",
    "        print(num,\"Is Prime number\")\n",
    "    else:\n",
    "        print(num,\"Not a Prime number\")"
   ]
  },
  {
   "cell_type": "markdown",
   "metadata": {},
   "source": [
    "3.Find the factorial of number"
   ]
  },
  {
   "cell_type": "code",
   "execution_count": 13,
   "metadata": {},
   "outputs": [
    {
     "name": "stdout",
     "output_type": "stream",
     "text": [
      "Factorial of 4 is 24\n"
     ]
    }
   ],
   "source": [
    "def factorial(n):\n",
    "    return 1 if(n==0 or n==1) else n * factorial(n-1)\n",
    "    #if (n==0 or n==1):\n",
    "      #  return 1\n",
    "   # else:\n",
    "       # return n * factorial(n-1)\n",
    "num=4\n",
    "print(\"Factorial of\", num, \"is\", factorial(num))"
   ]
  },
  {
   "cell_type": "markdown",
   "metadata": {},
   "source": [
    "4.Fibonacci Series\n"
   ]
  },
  {
   "cell_type": "code",
   "execution_count": 14,
   "metadata": {},
   "outputs": [
    {
     "name": "stdout",
     "output_type": "stream",
     "text": [
      "0\n",
      "1\n",
      "1\n",
      "2\n",
      "3\n",
      "5\n",
      "8\n",
      "13\n",
      "21\n",
      "34\n"
     ]
    }
   ],
   "source": [
    "n1=0\n",
    "n2=1\n",
    "print(n1)\n",
    "print(n2)\n",
    "\n",
    "for i in range(2, 10):\n",
    "    sum=n1+n2\n",
    "    print(sum)\n",
    "    n1=n2\n",
    "    n2=sum"
   ]
  },
  {
   "cell_type": "markdown",
   "metadata": {},
   "source": []
  },
  {
   "cell_type": "markdown",
   "metadata": {},
   "source": [
    "5.Find sum of Elements in an array"
   ]
  },
  {
   "cell_type": "code",
   "execution_count": 3,
   "metadata": {},
   "outputs": [
    {
     "name": "stdout",
     "output_type": "stream",
     "text": [
      "Sum of Elements 15\n",
      "Sum of Elements 25\n",
      "Sum of Elements 5\n"
     ]
    }
   ],
   "source": [
    "arr=[1,2,3,4,5]\n",
    "sum_of_elements=sum(arr)\n",
    "print(\"Sum of Elements\", sum_of_elements)\n",
    "sum_of_elements=sum(arr, 10)\n",
    "print(\"Sum of Elements\", sum_of_elements)\n",
    "sum_of_elements=sum(arr, -10)\n",
    "print(\"Sum of Elements\", sum_of_elements)\n"
   ]
  },
  {
   "cell_type": "markdown",
   "metadata": {},
   "source": [
    "6.Find the Maximum and Minimum elements in an array"
   ]
  },
  {
   "cell_type": "code",
   "execution_count": 6,
   "metadata": {},
   "outputs": [
    {
     "name": "stdout",
     "output_type": "stream",
     "text": [
      "Maximum number of Element in an array: 987\n",
      "Minimum number of Element in an array: 3\n"
     ]
    }
   ],
   "source": [
    "arr=[14,5,6,77,987,12,3]\n",
    "max=arr[0]\n",
    "n=len(arr)\n",
    "for i in range(1,n):\n",
    "    if arr[i]>max:\n",
    "        max=arr[i]\n",
    "print(\"Maximum number of Element in an array:\",max)\n",
    "\n",
    "min=arr[0]\n",
    "for j in range(1,n):\n",
    "    if arr[j]<min:\n",
    "        min=arr[j]\n",
    "print(\"Minimum number of Element in an array:\",min)"
   ]
  },
  {
   "cell_type": "markdown",
   "metadata": {},
   "source": [
    "7.Find length od a list "
   ]
  },
  {
   "cell_type": "code",
   "execution_count": 11,
   "metadata": {},
   "outputs": [
    {
     "name": "stdout",
     "output_type": "stream",
     "text": [
      "8\n",
      "[1, 2, 35, 6, 7]\n",
      "Lenght of list is: 5\n"
     ]
    }
   ],
   "source": [
    "mylist=[1,4,5,6,4,6,8,9]\n",
    "print(len(mylist))\n",
    "\n",
    "#or\n",
    "my_list=[1,2,35,6,7]\n",
    "print(my_list)\n",
    "count=0\n",
    "for i  in my_list:\n",
    "    count=count+1\n",
    "print(\"Lenght of list is:\",count)"
   ]
  },
  {
   "cell_type": "markdown",
   "metadata": {},
   "source": [
    "8.Swap First and Last element of a List"
   ]
  },
  {
   "cell_type": "code",
   "execution_count": 1,
   "metadata": {},
   "outputs": [
    {
     "name": "stdout",
     "output_type": "stream",
     "text": [
      "[10, 4, 6, 7, 9, 1]\n"
     ]
    }
   ],
   "source": [
    "mylist=[1,4,6,7,9,10]\n",
    "size=len(mylist)\n",
    "temp=mylist[0]\n",
    "mylist[0]=mylist[-1]\n",
    "mylist[-1]=temp\n",
    "print(mylist)"
   ]
  },
  {
   "cell_type": "markdown",
   "metadata": {},
   "source": [
    "9. Swap any two elements in a list"
   ]
  },
  {
   "cell_type": "code",
   "execution_count": 3,
   "metadata": {},
   "outputs": [
    {
     "name": "stdout",
     "output_type": "stream",
     "text": [
      "[12, 15, 6, 8, 10, 100]\n",
      "[100, 8, 6, 15, 10, 12]\n"
     ]
    }
   ],
   "source": [
    "my_list=[12,15,6,8,10,100]\n",
    "print(my_list)\n",
    "pos1, pos2=1, 3\n",
    "my_list[pos1],my_list[pos2]=my_list[pos2], my_list[pos1]\n",
    "pos1, pos2=0,5\n",
    "my_list[pos1],my_list[pos2]=my_list[pos2], my_list[pos1]\n",
    "\n",
    "print(my_list)"
   ]
  },
  {
   "cell_type": "markdown",
   "metadata": {},
   "source": [
    "10.Remove the Nth occurance of the word from list"
   ]
  },
  {
   "cell_type": "code",
   "execution_count": 7,
   "metadata": {},
   "outputs": [
    {
     "name": "stdout",
     "output_type": "stream",
     "text": [
      "['hi', 'hello']\n"
     ]
    }
   ],
   "source": [
    "my_list=[\"hi\" ,\"hello\", \"hi\"]\n",
    "word=\"hi\"\n",
    "n=2\n",
    "count=0\n",
    "for i in range(0, len(my_list)):\n",
    "    if(my_list[i]==word):\n",
    "        count=count+1\n",
    "        if(count==n):\n",
    "            del my_list[i]\n",
    "print(my_list)\n"
   ]
  },
  {
   "cell_type": "markdown",
   "metadata": {},
   "source": [
    "11.Search an Element in a list\n"
   ]
  },
  {
   "cell_type": "code",
   "execution_count": 9,
   "metadata": {},
   "outputs": [
    {
     "name": "stdout",
     "output_type": "stream",
     "text": [
      "Element not found\n"
     ]
    }
   ],
   "source": [
    "my_list=[1,3,6,7,8,9]\n",
    "ele=10\n",
    "flag=0\n",
    "\n",
    "for i in my_list:\n",
    "    if(ele==i):\n",
    "        print(\"Element found\")\n",
    "        flag=1\n",
    "        break\n",
    "if (flag==0):\n",
    "    print(\"Element not found\")"
   ]
  },
  {
   "cell_type": "markdown",
   "metadata": {},
   "source": [
    "12.Clear a list"
   ]
  },
  {
   "cell_type": "code",
   "execution_count": 3,
   "metadata": {},
   "outputs": [
    {
     "name": "stdout",
     "output_type": "stream",
     "text": [
      "[]\n"
     ]
    }
   ],
   "source": [
    "#my_list=[1,3,4,6,7,8]\n",
    "#my_list=[]\n",
    "#print(my_list)\n",
    "my_list.clear()\n",
    "print(my_list)\n",
    "\n",
    "\n"
   ]
  },
  {
   "cell_type": "markdown",
   "metadata": {},
   "source": [
    "13.Reverse a list"
   ]
  },
  {
   "cell_type": "code",
   "execution_count": 3,
   "metadata": {},
   "outputs": [
    {
     "name": "stdout",
     "output_type": "stream",
     "text": [
      "[74, 23, 9, 77, 6, 5, 4, 1]\n"
     ]
    }
   ],
   "source": [
    "my_list=[1,4,5,6,77,9,23,74]\n",
    "#my_list.reverse()\n",
    "my_list1=my_list[::-1]\n",
    "print(my_list1)\n"
   ]
  },
  {
   "cell_type": "markdown",
   "metadata": {},
   "source": [
    "14.Clone or Copy a list"
   ]
  },
  {
   "cell_type": "code",
   "execution_count": 5,
   "metadata": {},
   "outputs": [
    {
     "name": "stdout",
     "output_type": "stream",
     "text": [
      "[1, 2, 4, 5, 66, 89]\n"
     ]
    }
   ],
   "source": [
    "my_list=[1,2,4,5,66,89]\n",
    "#mylist2=mylist[:]\n",
    "#mylist2=[]\n",
    "#mylist2.extend(mylist)\n",
    "mylist_copy=my_list.copy()\n",
    "print(mylist_copy)"
   ]
  },
  {
   "cell_type": "markdown",
   "metadata": {},
   "source": [
    "15.Count occurances of an element in a list"
   ]
  },
  {
   "cell_type": "code",
   "execution_count": 15,
   "metadata": {},
   "outputs": [
    {
     "name": "stdout",
     "output_type": "stream",
     "text": [
      "23 has occured 0 times\n"
     ]
    }
   ],
   "source": [
    "my_list=[12,3,4,5,6,7,99,2,5,2,2,3,3,3,2]\n",
    "x=23\n",
    "count=0\n",
    "\n",
    "for ele in my_list:\n",
    "\n",
    "    if(ele==x):\n",
    "        count+=1\n",
    "print(\"{} has occured {} times\".format(x,count))\n",
    "    \n",
    "\n",
    "   \n",
    "\n"
   ]
  },
  {
   "cell_type": "markdown",
   "metadata": {},
   "source": [
    "16.Find the sum of Elements in list"
   ]
  },
  {
   "cell_type": "code",
   "execution_count": 19,
   "metadata": {},
   "outputs": [
    {
     "name": "stdout",
     "output_type": "stream",
     "text": [
      "Sum of elements in a list: 50\n"
     ]
    }
   ],
   "source": [
    "my_list=[5,10,25,10]\n",
    "#total=0\n",
    "#for i in range(0,len(my_list)):\n",
    "    #total=total+my_list[i]\n",
    "total=sum(my_list)\n",
    "print(\"Sum of elements in a list:\",total)"
   ]
  },
  {
   "cell_type": "markdown",
   "metadata": {},
   "source": [
    "17.Multiply the total element in a list"
   ]
  },
  {
   "cell_type": "code",
   "execution_count": 20,
   "metadata": {},
   "outputs": [
    {
     "name": "stdout",
     "output_type": "stream",
     "text": [
      "40\n"
     ]
    }
   ],
   "source": [
    "my_list=[2,4,5]\n",
    "result=1\n",
    "\n",
    "for i in my_list:\n",
    "    result=result * i\n",
    "print(result)\n"
   ]
  },
  {
   "cell_type": "markdown",
   "metadata": {},
   "source": [
    "18.Find the Smallest and Largest number in the list"
   ]
  },
  {
   "cell_type": "code",
   "execution_count": 24,
   "metadata": {},
   "outputs": [
    {
     "name": "stdout",
     "output_type": "stream",
     "text": [
      "Smallest number in a list 2\n",
      "Largest number in a list: 89\n"
     ]
    }
   ],
   "source": [
    "my_list=[12,4,66,89,2,78,23,34]\n",
    "print(\"Smallest number in a list\", min(my_list))\n",
    "print(\"Largest number in a list:\", max(my_list))\n",
    "#my_list.sort()\n",
    "#print(my_list)\n",
    "#print(\"Smallest number in a list\", my_list[0])\n",
    "#print(\"Largest number in a list\", my_list[-1])"
   ]
  },
  {
   "cell_type": "markdown",
   "metadata": {},
   "source": [
    "19.Find the Second largest element in a list"
   ]
  },
  {
   "cell_type": "code",
   "execution_count": 25,
   "metadata": {},
   "outputs": [
    {
     "name": "stdout",
     "output_type": "stream",
     "text": [
      "Second largest element in a list 106\n"
     ]
    }
   ],
   "source": [
    "my_list=[106,7,34,98,9,107,23,4]\n",
    "my_list.sort()\n",
    "print(\"Second largest element in a list\", my_list[-2])"
   ]
  },
  {
   "cell_type": "markdown",
   "metadata": {},
   "source": [
    "20. Check a string is palindrome or not"
   ]
  },
  {
   "cell_type": "code",
   "execution_count": 38,
   "metadata": {},
   "outputs": [
    {
     "name": "stdout",
     "output_type": "stream",
     "text": [
      "Is a Palindrome\n"
     ]
    }
   ],
   "source": [
    "def palindrome(str):\n",
    "    if(str==str[::-1]):\n",
    "        return \"Is a Palindrome\"\n",
    "    else:\n",
    "        return \"it is not a Palindrome\"\n",
    "str=\"amma\"\n",
    "print(palindrome(str))"
   ]
  },
  {
   "cell_type": "markdown",
   "metadata": {},
   "source": [
    "21. Reverse a Words in a string\n"
   ]
  },
  {
   "cell_type": "code",
   "execution_count": 41,
   "metadata": {},
   "outputs": [
    {
     "name": "stdout",
     "output_type": "stream",
     "text": [
      "['Code', 'karega', 'bharat']\n",
      "['bharat', 'karega', 'Code']\n"
     ]
    }
   ],
   "source": [
    "str=\"Code karega bharat\"\n",
    "\n",
    "words=str.split()\n",
    "print(words)\n",
    "\n",
    "words=words[::-1]\n",
    "print(words)"
   ]
  },
  {
   "cell_type": "markdown",
   "metadata": {},
   "source": [
    "22.Find the substring presence in a string\n"
   ]
  },
  {
   "cell_type": "code",
   "execution_count": 43,
   "metadata": {},
   "outputs": [
    {
     "name": "stdout",
     "output_type": "stream",
     "text": [
      "11\n",
      "Found\n"
     ]
    }
   ],
   "source": [
    "str=\"Welcome to Python Programming\"\n",
    "sub_str=\"Python\"\n",
    "print(str.find(sub_str))\n",
    "if(str.find(sub_str)==-1):\n",
    "    print(\"Not found\")\n",
    "else:\n",
    "    print(\"Found\")"
   ]
  },
  {
   "cell_type": "markdown",
   "metadata": {},
   "source": [
    "23.Find the lenght of a string"
   ]
  },
  {
   "cell_type": "code",
   "execution_count": 49,
   "metadata": {},
   "outputs": [
    {
     "name": "stdout",
     "output_type": "stream",
     "text": [
      "18\n",
      "5\n"
     ]
    }
   ],
   "source": [
    "str=\"Code karega Bharat\"\n",
    "str.split()\n",
    "print(len(str))\n",
    "str1=\"Coder\"\n",
    "print(len(str1))"
   ]
  },
  {
   "cell_type": "markdown",
   "metadata": {},
   "source": [
    "24.Check if a string contians any special character"
   ]
  },
  {
   "cell_type": "code",
   "execution_count": 51,
   "metadata": {},
   "outputs": [
    {
     "name": "stdout",
     "output_type": "stream",
     "text": [
      "No special characters present in a string\n"
     ]
    }
   ],
   "source": [
    "import re\n",
    "#str=\"wecome@pythonprprogramming@\"\n",
    "str=\"Welcome\"\n",
    "regex=re.compile('[!@#$%^&*(){:;?/|<>]')\n",
    "\n",
    "if(regex.search(str)==None):\n",
    "    print(\"No special characters present in a string\")\n",
    "else:\n",
    "    print(\"String contains special characters\")"
   ]
  },
  {
   "cell_type": "markdown",
   "metadata": {},
   "source": [
    "25.Check for URL in a String"
   ]
  },
  {
   "cell_type": "code",
   "execution_count": 53,
   "metadata": {},
   "outputs": [
    {
     "name": "stdout",
     "output_type": "stream",
     "text": [
      "['https://www.pavanonlinetrainings.com/about.html']\n"
     ]
    },
    {
     "name": "stderr",
     "output_type": "stream",
     "text": [
      "<>:5: SyntaxWarning: invalid escape sequence '\\('\n",
      "<>:5: SyntaxWarning: invalid escape sequence '\\('\n",
      "C:\\Users\\Hp\\AppData\\Local\\Temp\\ipykernel_2804\\4285367168.py:5: SyntaxWarning: invalid escape sequence '\\('\n",
      "  url=re.findall('http[s]?://(?:[a-zA-Z]|[0-9]|[$-_@.&+]|[!*\\(\\),]|(?:%[0-9a-fA-F][0-9a-fA-F]))+',str)\n"
     ]
    }
   ],
   "source": [
    "import re\n",
    "\n",
    "str=\"My profile:  https://www.pavanonlinetrainings.com/about.html\"\n",
    "\n",
    "url=re.findall('http[s]?://(?:[a-zA-Z]|[0-9]|[$-_@.&+]|[!*\\(\\),]|(?:%[0-9a-fA-F][0-9a-fA-F]))+',str)\n",
    "print(url)  \n"
   ]
  }
 ],
 "metadata": {
  "kernelspec": {
   "display_name": "Python 3",
   "language": "python",
   "name": "python3"
  },
  "language_info": {
   "codemirror_mode": {
    "name": "ipython",
    "version": 3
   },
   "file_extension": ".py",
   "mimetype": "text/x-python",
   "name": "python",
   "nbconvert_exporter": "python",
   "pygments_lexer": "ipython3",
   "version": "3.12.2"
  }
 },
 "nbformat": 4,
 "nbformat_minor": 2
}
